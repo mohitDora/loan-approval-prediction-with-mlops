{
 "cells": [
  {
   "cell_type": "code",
   "execution_count": null,
   "id": "76e4f46d",
   "metadata": {},
   "outputs": [],
   "source": [
    "import pandas as pd\n",
    "import pymongo\n",
    "from loanApprovalPrediction.config import configuration"
   ]
  },
  {
   "cell_type": "code",
   "execution_count": null,
   "id": "05c25d6f",
   "metadata": {},
   "outputs": [],
   "source": [
    "config= configuration.ConfigurationManager()\n",
    "data_ingestion_config = config.get_data_ingestion_config()"
   ]
  },
  {
   "cell_type": "code",
   "execution_count": null,
   "id": "11020141",
   "metadata": {},
   "outputs": [],
   "source": [
    "data_ingestion_config"
   ]
  },
  {
   "cell_type": "code",
   "execution_count": null,
   "id": "e0e74bcc",
   "metadata": {},
   "outputs": [],
   "source": [
    "df = pd.read_csv(\"../temp/loanApprovalPrediction.csv\")\n",
    "df.head()"
   ]
  },
  {
   "cell_type": "code",
   "execution_count": null,
   "id": "60d9f748",
   "metadata": {},
   "outputs": [],
   "source": [
    "data = df.to_dict(orient='records')\n",
    "# data"
   ]
  },
  {
   "cell_type": "code",
   "execution_count": null,
   "id": "bbb05cec",
   "metadata": {},
   "outputs": [],
   "source": [
    "DB_NAME = data_ingestion_config.mongo_db_name\n",
    "COLLECTION_NAME = data_ingestion_config.mongo_collection_name\n",
    "\n",
    "client = pymongo.MongoClient(data_ingestion_config.source_url)\n",
    "db = client[DB_NAME]\n",
    "collection = db[COLLECTION_NAME]"
   ]
  },
  {
   "cell_type": "code",
   "execution_count": null,
   "id": "16c6252a",
   "metadata": {},
   "outputs": [],
   "source": [
    "# collection.insert_many(data)"
   ]
  }
 ],
 "metadata": {
  "kernelspec": {
   "display_name": ".venv",
   "language": "python",
   "name": "python3"
  },
  "language_info": {
   "codemirror_mode": {
    "name": "ipython",
    "version": 3
   },
   "file_extension": ".py",
   "mimetype": "text/x-python",
   "name": "python",
   "nbconvert_exporter": "python",
   "pygments_lexer": "ipython3",
   "version": "3.11.7"
  }
 },
 "nbformat": 4,
 "nbformat_minor": 5
}
